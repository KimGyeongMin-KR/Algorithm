{
 "cells": [
  {
   "cell_type": "markdown",
   "id": "2a044f6b",
   "metadata": {},
   "source": [
    "### 설계\n",
    "완전 탐색으로 해결\n",
    "- 작다면 queue에 넣고 같다면 count + 1\n",
    "- ans에 정답 caching\n",
    "\n",
    "### 피드백\n",
    "- 다이나믹 프로그래밍 문제로 점화식을 세우면 더 좋았음"
   ]
  },
  {
   "cell_type": "markdown",
   "id": "b1ef80e0",
   "metadata": {},
   "source": [
    "#### BFS버전"
   ]
  },
  {
   "cell_type": "code",
   "execution_count": 17,
   "id": "6e21c079",
   "metadata": {},
   "outputs": [
    {
     "name": "stdout",
     "output_type": "stream",
     "text": [
      "3\n",
      "11\n",
      "504\n",
      "11\n",
      "504\n",
      "11\n",
      "504\n"
     ]
    }
   ],
   "source": [
    "from collections import deque\n",
    "N = int(input())\n",
    "plus_list = [1, 2, 3]\n",
    "ans = [0] * 12\n",
    "\n",
    "for _ in range(N):\n",
    "    std = int(input())\n",
    "    if ans[std]:\n",
    "        print(ans[std])\n",
    "        continue\n",
    "        \n",
    "    queue = deque([0])\n",
    "    cnt = 0\n",
    "    while queue:\n",
    "        num = queue.popleft()\n",
    "        \n",
    "        for x in plus_list:    \n",
    "            n = num + x\n",
    "            if n == std:\n",
    "                cnt += 1\n",
    "            if n < std:\n",
    "                queue.append(n)\n",
    "                \n",
    "    ans[std] = cnt\n",
    "    print(cnt)"
   ]
  },
  {
   "cell_type": "markdown",
   "id": "b4e26f6a",
   "metadata": {},
   "source": [
    "#### DP버전"
   ]
  },
  {
   "cell_type": "code",
   "execution_count": null,
   "id": "c05b810d",
   "metadata": {},
   "outputs": [],
   "source": [
    "T = int(input())\n",
    "\n",
    "dp = [0]*11\n",
    "dp[1] = 1\n",
    "dp[2] = 2\n",
    "dp[3] = 4\n",
    "for i in range(4, 11):\n",
    "    dp[i] = dp[i-1] + dp[i-2] + dp[i-3]\n",
    "\n",
    "for _ in range(T):\n",
    "    n = int(input())\n",
    "    print(dp[n])"
   ]
  }
 ],
 "metadata": {
  "kernelspec": {
   "display_name": "Python 3 (ipykernel)",
   "language": "python",
   "name": "python3"
  },
  "language_info": {
   "codemirror_mode": {
    "name": "ipython",
    "version": 3
   },
   "file_extension": ".py",
   "mimetype": "text/x-python",
   "name": "python",
   "nbconvert_exporter": "python",
   "pygments_lexer": "ipython3",
   "version": "3.9.13"
  }
 },
 "nbformat": 4,
 "nbformat_minor": 5
}
