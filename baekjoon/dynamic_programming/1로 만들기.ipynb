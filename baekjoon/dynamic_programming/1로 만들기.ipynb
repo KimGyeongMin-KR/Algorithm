{
 "cells": [
  {
   "cell_type": "code",
   "execution_count": 27,
   "id": "43c608d3",
   "metadata": {},
   "outputs": [
    {
     "name": "stdout",
     "output_type": "stream",
     "text": [
      "10000000\n",
      "22\n"
     ]
    }
   ],
   "source": [
    "from collections import deque\n",
    "N = int(input())\n",
    "\n",
    "queue = deque([(N, 0)])\n",
    "\n",
    "while queue:\n",
    "    num, cnt = queue.popleft()\n",
    "    if num == 1:\n",
    "        print(cnt)\n",
    "        break\n",
    "        \n",
    "    for i in [3, 2, 1]:\n",
    "        if i != 1 and num%i == 0:\n",
    "            queue.append((num//i, cnt+1))\n",
    "        elif i == 1:\n",
    "            queue.append((num-i, cnt+1))"
   ]
  },
  {
   "cell_type": "code",
   "execution_count": 28,
   "id": "edd32db9",
   "metadata": {},
   "outputs": [
    {
     "name": "stdout",
     "output_type": "stream",
     "text": [
      "10000000\n",
      "22\n"
     ]
    }
   ],
   "source": [
    "# TopDown 방식 (재귀 활용)\n",
    "# import sys\n",
    "# input = sys.stdin.readline\n",
    "\n",
    "x = int(input())\n",
    "d = {1:0}\n",
    "\n",
    "def rec(i):\n",
    "    if i in d.keys():\n",
    "        return d[i]\n",
    "    if (i%2 == 0) and (i%3 == 0):\n",
    "        d[i] = min(rec(i//2)+1, rec(i//3)+1)\n",
    "    elif i%2 == 0:\n",
    "        d[i] = min(rec(i//2)+1, rec(i-1)+1)\n",
    "    elif i%3 == 0:\n",
    "        d[i] = min(rec(i//3)+1, rec(i-1)+1)\n",
    "    else:\n",
    "        d[i] = rec(i-1)+1\n",
    "    return d[i]\n",
    "\n",
    "print(rec(x))\n",
    "\n",
    "\n",
    "\n",
    "# n = int(input())\n",
    "# dp = [0] * (n+1)\n",
    "\n",
    "# for i in range(2, n+1):\n",
    "#     dp[i] = dp[i-1] + 1\n",
    "\n",
    "#     if i%2 == 0:\n",
    "#         dp[i] = min(dp[i], dp[i//2]+1)\n",
    "#     if i%3 == 0:\n",
    "#         dp[i] = min(dp[i], dp[i//3]+1)\n",
    "\n",
    "# print(dp[n])"
   ]
  },
  {
   "cell_type": "code",
   "execution_count": null,
   "id": "d9cb8216",
   "metadata": {},
   "outputs": [],
   "source": []
  }
 ],
 "metadata": {
  "kernelspec": {
   "display_name": "Python 3 (ipykernel)",
   "language": "python",
   "name": "python3"
  },
  "language_info": {
   "codemirror_mode": {
    "name": "ipython",
    "version": 3
   },
   "file_extension": ".py",
   "mimetype": "text/x-python",
   "name": "python",
   "nbconvert_exporter": "python",
   "pygments_lexer": "ipython3",
   "version": "3.9.13"
  }
 },
 "nbformat": 4,
 "nbformat_minor": 5
}
