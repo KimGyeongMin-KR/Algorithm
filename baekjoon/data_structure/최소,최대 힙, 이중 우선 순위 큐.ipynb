{
 "cells": [
  {
   "attachments": {},
   "cell_type": "markdown",
   "id": "be13cd6c",
   "metadata": {},
   "source": [
    "최소힙\n",
    "- 직접 구현 복습 필요"
   ]
  },
  {
   "cell_type": "code",
   "execution_count": 33,
   "id": "0b504880",
   "metadata": {},
   "outputs": [],
   "source": [
    "import sys\n",
    "import heapq\n",
    "input = sys.stdin.readline\n",
    "\n",
    "min_heap = []\n",
    "\n",
    "for _ in range(int(input())):\n",
    "    n = int(input())\n",
    "    if not n:\n",
    "        print(heapq.heappop(min_heap) if min_heap else 0)\n",
    "    else:\n",
    "        heapq.heappush(min_heap, n)"
   ]
  },
  {
   "cell_type": "markdown",
   "id": "8c942f48",
   "metadata": {},
   "source": [
    "## "
   ]
  }
 ],
 "metadata": {
  "kernelspec": {
   "display_name": "Python 3 (ipykernel)",
   "language": "python",
   "name": "python3"
  },
  "language_info": {
   "codemirror_mode": {
    "name": "ipython",
    "version": 3
   },
   "file_extension": ".py",
   "mimetype": "text/x-python",
   "name": "python",
   "nbconvert_exporter": "python",
   "pygments_lexer": "ipython3",
   "version": "3.9.13"
  }
 },
 "nbformat": 4,
 "nbformat_minor": 5
}
