{
 "cells": [
  {
   "cell_type": "code",
   "execution_count": 33,
   "id": "d804bc0b",
   "metadata": {},
   "outputs": [],
   "source": [
    "class MinHeap:\n",
    "    def __init__(self):\n",
    "        self.heap = []\n",
    "        \n",
    "    def insert(self, value):\n",
    "        self.heap.append(value)\n",
    "        self._heapify_up(len(self.heap) - 1)\n",
    "        \n",
    "    def _heapify_up(self, index):\n",
    "        parent = (index - 1) // 2\n",
    "        if parent >= 0 and self.heap[index] < self.heap[parent]:\n",
    "            self.heap[index], self.heap[parent] = self.heap[parent], self.heap[index]\n",
    "            self._heapify_up(parent)\n",
    "        \n",
    "    def extract_min(self):\n",
    "        if not self.heap:\n",
    "            return None\n",
    "        elif len(self.heap) == 1:\n",
    "            return self.heap.pop()\n",
    "        \n",
    "        min_value = self.heap[0]\n",
    "        self.heap[0] = self.heap.pop()\n",
    "        self._heapify_down(0)\n",
    "        return min_value\n",
    "    \n",
    "    def _heapify_down(self, index):\n",
    "        left = 2 * index + 1\n",
    "        right = 2 * index + 2\n",
    "        smallest = index\n",
    "        \n",
    "        if left < len(self.heap) and self.heap[left] < self.heap[smallest]:\n",
    "            smallest = left\n",
    "            \n",
    "        if right < len(self.heap) and self.heap[right] < self.heap[smallest]:\n",
    "            smallest = right\n",
    "        \n",
    "        if smallest != index:\n",
    "            self.heap[index], self.heap[smallest] = self.heap[smallest], self.heap[index]\n",
    "            self._heapify_down(smallest)"
   ]
  }
 ],
 "metadata": {
  "kernelspec": {
   "display_name": "Python 3 (ipykernel)",
   "language": "python",
   "name": "python3"
  },
  "language_info": {
   "codemirror_mode": {
    "name": "ipython",
    "version": 3
   },
   "file_extension": ".py",
   "mimetype": "text/x-python",
   "name": "python",
   "nbconvert_exporter": "python",
   "pygments_lexer": "ipython3",
   "version": "3.9.13"
  }
 },
 "nbformat": 4,
 "nbformat_minor": 5
}
