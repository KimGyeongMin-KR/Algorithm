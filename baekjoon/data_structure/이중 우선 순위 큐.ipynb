{
 "cells": [
  {
   "cell_type": "code",
   "execution_count": null,
   "id": "d0ad8dce",
   "metadata": {},
   "outputs": [],
   "source": [
    "import heapq as hq\n",
    "import sys\n",
    "\n",
    "input = sys.stdin.readline\n",
    "\n",
    "T = int(input())\n",
    "for _ in range(T):\n",
    "    N = int(input())\n",
    "    min_heap = []\n",
    "    max_heap = []\n",
    "    del_idx = [0] * N\n",
    "    for i in range(N):\n",
    "        t, num = input().split()\n",
    "        num = int(num)\n",
    "        \n",
    "        if t == \"I\":\n",
    "            hq.heappush(min_heap, (num, i))\n",
    "            hq.heappush(max_heap, (-num, i))\n",
    "        elif t == \"D\":\n",
    "            if num == -1:\n",
    "                while min_heap:\n",
    "                    num, idx = hq.heappop(min_heap)\n",
    "                    if not del_idx[idx]:\n",
    "                        del_idx[idx] = True\n",
    "                        break\n",
    "            else:\n",
    "                while max_heap:\n",
    "                    num, idx = hq.heappop(max_heap)\n",
    "                    if not del_idx[idx]:\n",
    "                        del_idx[idx] = True\n",
    "                        break\n",
    "        \n",
    "    answer = []\n",
    "    \n",
    "    while max_heap:\n",
    "        num, idx = hq.heappop(max_heap)\n",
    "        if not del_idx[idx]:\n",
    "            answer.append(-num)\n",
    "            break\n",
    "            \n",
    "    if not answer:\n",
    "        print(\"EMPTY\")\n",
    "        continue\n",
    "        \n",
    "    while min_heap:\n",
    "        num, idx = hq.heappop(min_heap)\n",
    "        if not del_idx[idx]:\n",
    "            answer.append(num)\n",
    "            break\n",
    "    \n",
    "    print(*answer)"
   ]
  }
 ],
 "metadata": {
  "kernelspec": {
   "display_name": "Python 3 (ipykernel)",
   "language": "python",
   "name": "python3"
  },
  "language_info": {
   "codemirror_mode": {
    "name": "ipython",
    "version": 3
   },
   "file_extension": ".py",
   "mimetype": "text/x-python",
   "name": "python",
   "nbconvert_exporter": "python",
   "pygments_lexer": "ipython3",
   "version": "3.9.13"
  }
 },
 "nbformat": 4,
 "nbformat_minor": 5
}
