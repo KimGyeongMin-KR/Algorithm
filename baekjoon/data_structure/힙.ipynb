{
 "cells": [
  {
   "attachments": {},
   "cell_type": "markdown",
   "id": "e106febf",
   "metadata": {},
   "source": [
    "삽입: 배열 마지막에 삽입 후, 부모 노드와 비교 후 교체&재귀 혹은 중단\n",
    "삭제: 배열 첫번째 추출 & 마지막을 첫번째로, 자식 노드와 비교 후 더 작은 것으로 교체"
   ]
  },
  {
   "cell_type": "code",
   "execution_count": 33,
   "id": "d804bc0b",
   "metadata": {},
   "outputs": [],
   "source": [
    "class MinHeap:\n",
    "    def __init__(self):\n",
    "        self.heap = []\n",
    "        \n",
    "    def insert(self, value):\n",
    "        self.heap.append(value)\n",
    "        self._heapify_up(len(self.heap) - 1)\n",
    "        \n",
    "    def _heapify_up(self, index):\n",
    "        parent = (index - 1) // 2\n",
    "        if parent >= 0 and self.heap[index] < self.heap[parent]:\n",
    "            self.heap[index], self.heap[parent] = self.heap[parent], self.heap[index]\n",
    "            self._heapify_up(parent)\n",
    "        \n",
    "    def extract_min(self):\n",
    "        if not self.heap:\n",
    "            return None\n",
    "        elif len(self.heap) == 1:\n",
    "            return self.heap.pop()\n",
    "        \n",
    "        min_value = self.heap[0]\n",
    "        self.heap[0] = self.heap.pop()\n",
    "        self._heapify_down(0)\n",
    "        return min_value\n",
    "    \n",
    "    def _heapify_down(self, index):\n",
    "        left = 2 * index + 1\n",
    "        right = 2 * index + 2\n",
    "        smallest = index\n",
    "        \n",
    "        if left < len(self.heap) and self.heap[left] < self.heap[smallest]:\n",
    "            smallest = left\n",
    "            \n",
    "        if right < len(self.heap) and self.heap[right] < self.heap[smallest]:\n",
    "            smallest = right\n",
    "        \n",
    "        if smallest != index:\n",
    "            self.heap[index], self.heap[smallest] = self.heap[smallest], self.heap[index]\n",
    "            self._heapify_down(smallest)"
   ]
  }
 ],
 "metadata": {
  "kernelspec": {
   "display_name": "Python 3",
   "language": "python",
   "name": "python3"
  },
  "language_info": {
   "codemirror_mode": {
    "name": "ipython",
    "version": 3
   },
   "file_extension": ".py",
   "mimetype": "text/x-python",
   "name": "python",
   "nbconvert_exporter": "python",
   "pygments_lexer": "ipython3",
   "version": "3.11.1 (main, Dec 23 2022, 09:28:24) [Clang 14.0.0 (clang-1400.0.29.202)]"
  },
  "vscode": {
   "interpreter": {
    "hash": "5c7b89af1651d0b8571dde13640ecdccf7d5a6204171d6ab33e7c296e100e08a"
   }
  }
 },
 "nbformat": 4,
 "nbformat_minor": 5
}
