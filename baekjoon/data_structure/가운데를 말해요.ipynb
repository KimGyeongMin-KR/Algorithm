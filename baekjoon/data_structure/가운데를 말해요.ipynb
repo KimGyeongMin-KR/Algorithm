{
 "cells": [
  {
   "cell_type": "code",
   "execution_count": null,
   "id": "c073fe02",
   "metadata": {},
   "outputs": [],
   "source": [
    "import heapq as hq\n",
    "# import sys\n",
    "\n",
    "# input = sys.stdin.readline\n",
    "\n",
    "left_max_heap = []\n",
    "right_min_heap = []\n",
    "\n",
    "N = int(input())\n",
    "arr = [int(input()) for _ in range(N)]\n",
    "mid = 10**6 + 1\n",
    "answer = []\n",
    "\n",
    "for x in arr:\n",
    "\n",
    "    if x < mid:\n",
    "        hq.heappush(left_max_heap, -x)\n",
    "        \n",
    "        if len(left_max_heap) > len(right_min_heap) + 1:\n",
    "            pd = hq.heappop(left_max_heap)\n",
    "            hq.heappush(right_min_heap, -pd)\n",
    "    else:\n",
    "        hq.heappush(right_min_heap, x)\n",
    "        \n",
    "        if len(right_min_heap) > len(left_max_heap):\n",
    "            pd = hq.heappop(right_min_heap)\n",
    "            hq.heappush(left_max_heap, -pd)\n",
    "            \n",
    "    mid = -left_max_heap[0]\n",
    "    answer.append(str(mid))\n",
    "    \n",
    "print(\"\\n\".join(answer))"
   ]
  }
 ],
 "metadata": {
  "kernelspec": {
   "display_name": "Python 3 (ipykernel)",
   "language": "python",
   "name": "python3"
  },
  "language_info": {
   "codemirror_mode": {
    "name": "ipython",
    "version": 3
   },
   "file_extension": ".py",
   "mimetype": "text/x-python",
   "name": "python",
   "nbconvert_exporter": "python",
   "pygments_lexer": "ipython3",
   "version": "3.9.13"
  }
 },
 "nbformat": 4,
 "nbformat_minor": 5
}
