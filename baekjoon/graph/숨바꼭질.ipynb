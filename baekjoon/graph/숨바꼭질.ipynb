{
 "cells": [
  {
   "cell_type": "markdown",
   "id": "05e0c908",
   "metadata": {},
   "source": [
    "### 설계\n",
    "- [숫자, 횟수]를 담는 큐\n",
    "- 큰 숫자에서 떨구는 구조, BFS\n",
    "- 방문하지 않은 것들만 append\n",
    "\n",
    "#### 피드백\n",
    "- 방문한 곳 필터링 생각 못함\n",
    "- 수빈이와 동생의 순서를 상관없다 생각한 잘못"
   ]
  },
  {
   "cell_type": "code",
   "execution_count": null,
   "id": "f2ed9e30",
   "metadata": {},
   "outputs": [],
   "source": [
    "from collections import deque\n",
    "\n",
    "N, K = map(int, input().split())\n",
    "v = set()\n",
    "\n",
    "def bfs():\n",
    "    queue = deque([[K, 0]])\n",
    "    while queue:\n",
    "        num, cnt = queue.popleft()\n",
    "        \n",
    "        if num == N:\n",
    "            print(cnt)\n",
    "            break\n",
    "            \n",
    "        if x in v or x < 0:\n",
    "            continue\n",
    "            \n",
    "        if not num % 2:\n",
    "            x = num // 2\n",
    "            queue.append([x, cnt + 1])\n",
    "            v.add(x)\n",
    "                \n",
    "        for x in [num - 1, num + 1]:\n",
    "            queue.append([x, cnt + 1])\n",
    "            v.add(x)\n",
    "if N > K:\n",
    "    print(N - K)\n",
    "else:\n",
    "    bfs()"
   ]
  },
  {
   "cell_type": "markdown",
   "id": "6643cda4",
   "metadata": {},
   "source": [
    "- 다른 분 코드\n",
    "\n",
    "게임맵 풀이처럼 board를 만들어 0일 경우에 현재 인덱스의 값과 더하는 로직이 마음에 든다. 멋졍."
   ]
  },
  {
   "cell_type": "code",
   "execution_count": null,
   "id": "580a1c7c",
   "metadata": {},
   "outputs": [],
   "source": [
    "from collections import deque\n",
    "n,k=map(int,input().split())\n",
    "board=[0]*(10**5+1)\n",
    "q=deque()\n",
    "q.append(n)\n",
    "while q:\n",
    "    cx=q.popleft()\n",
    "    if cx==k:\n",
    "        print(board[cx])\n",
    "        exit(0)\n",
    "    for nx in (cx-1,cx+1,2*cx):\n",
    "        if 0<=nx<len(board) and not board[nx]:\n",
    "            board[nx]=board[cx]+1\n",
    "            q.append(nx)"
   ]
  }
 ],
 "metadata": {
  "kernelspec": {
   "display_name": "Python 3 (ipykernel)",
   "language": "python",
   "name": "python3"
  },
  "language_info": {
   "codemirror_mode": {
    "name": "ipython",
    "version": 3
   },
   "file_extension": ".py",
   "mimetype": "text/x-python",
   "name": "python",
   "nbconvert_exporter": "python",
   "pygments_lexer": "ipython3",
   "version": "3.9.13"
  }
 },
 "nbformat": 4,
 "nbformat_minor": 5
}
