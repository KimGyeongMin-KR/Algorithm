{
 "cells": [
  {
   "attachments": {},
   "cell_type": "markdown",
   "metadata": {},
   "source": [
    "## 설계\n",
    "### v1\n",
    "1. 전체 순회하면서 노드겸 인덱스가 방문 내역에 없다면 dfs 시작과 count += 1\n",
    "2. 방문하는 곳 추가와 인접 노드를 덱에 넣고 비어있을 때까지 반복\n",
    "    - 조건은 방문했던 곳에 없어야한다."
   ]
  },
  {
   "cell_type": "code",
   "execution_count": null,
   "metadata": {},
   "outputs": [],
   "source": [
    "from collections import deque\n",
    "# import sys\n",
    "# input = sys.stdin.readline\n",
    "\n",
    "m, n = map(int, input().split())\n",
    "graph = {x : set() for x in range(1, m+1)}\n",
    "v = set() # 방문했던 곳\n",
    "cnt = 0\n",
    "\n",
    "for _ in range(n):\n",
    "    n1, n2 = map(int, input().split())\n",
    "    graph[n1].add(n2)\n",
    "    graph[n2].add(n1)\n",
    "    \n",
    "    \n",
    "def dfs(st):\n",
    "    queue = deque([st])\n",
    "    \n",
    "    while queue:\n",
    "        t = queue.pop()\n",
    "        \n",
    "        if t in v:\n",
    "            continue\n",
    "            \n",
    "        v.add(t)\n",
    "        queue.extend(graph[t])\n",
    "        \n",
    "for x in range(1, m+1):\n",
    "    if x not in v:\n",
    "        cnt += 1\n",
    "        dfs(x)\n",
    "\n",
    "print(cnt)"
   ]
  },
  {
   "attachments": {},
   "cell_type": "markdown",
   "metadata": {},
   "source": [
    "다른 답과 배울 점\n",
    "- 그래프를 만들 때 N+1개의 리스트를 만들어 숫자를 인덱스로 볼 수 있게함\n",
    "- 방문 여부를 위와 같이 N+1개로 만들어 놓고 방문시 True로 변환하여 판단함, (나의 답은 딕셔너리와 set자료형을 사용함으로 인해 메모리를 더 사용한 것으로 판단)\n",
    "- 재귀적으로 깔끔하게 표현함"
   ]
  },
  {
   "cell_type": "code",
   "execution_count": null,
   "metadata": {},
   "outputs": [],
   "source": [
    "import sys\n",
    "# input = sys.stdin.readline\n",
    "N, M = map(int, input().split())\n",
    "graph = list([] for _ in range(N+1))\n",
    "\n",
    "cnt = 0\n",
    "\n",
    "for _ in range(M):\n",
    "    a, b = map(int, input().split())\n",
    "    graph[a].append(b)\n",
    "    graph[b].append(a)\n",
    "\n",
    "visited = [False] * (N+1)\n",
    "def DFS(x):\n",
    "    visited[x] = True\n",
    "\n",
    "    for node in graph[x]:\n",
    "        if not visited[node]:\n",
    "            DFS(node)\n",
    "\n",
    "\n",
    "cnt = 0\n",
    "\n",
    "for i in range(1, N+1):\n",
    "    if not visited[i]:\n",
    "        DFS(i)\n",
    "        cnt += 1\n",
    "\n",
    "print(cnt)"
   ]
  },
  {
   "attachments": {},
   "cell_type": "markdown",
   "metadata": {},
   "source": [
    "참고한 v2 설계\n",
    "1. 전체 순회하면서 노드겸 인덱스가 방문 내역에 없다면 dfs 시작과 count += 1\n",
    "2. 방문하는 곳 리스트 체크 후 인접 노드를 순회하며 dfs재귀 호출\n",
    "    - 조건은 방문하지 않았던 곳이어야한다."
   ]
  },
  {
   "cell_type": "code",
   "execution_count": null,
   "metadata": {},
   "outputs": [],
   "source": [
    "import sys\n",
    "\n",
    "input = sys.stdin.readline\n",
    "sys.setrecursionlimit(10000)\n",
    "\n",
    "m, n = map(int, input().split())\n",
    "graph = {x : set() for x in range(1, m+1)}\n",
    "v = [False] * (m+1)\n",
    "\n",
    "for _ in range(n):\n",
    "    n1, n2 = map(int, input().split())\n",
    "    graph[n1].add(n2)\n",
    "    graph[n2].add(n1)\n",
    "    \n",
    "    \n",
    "def dfs(num):\n",
    "    v[num] = True\n",
    "    \n",
    "    for node in graph[num]:\n",
    "        if not v[node]:\n",
    "            dfs(node)\n",
    "\n",
    "cnt = 0\n",
    "\n",
    "for x in range(1, m+1):\n",
    "    if not v[x]:\n",
    "        cnt += 1\n",
    "        dfs(x)\n",
    "\n",
    "print(cnt)"
   ]
  },
  {
   "attachments": {},
   "cell_type": "markdown",
   "metadata": {},
   "source": [
    "> 파이썬의 재귀 호출 제한을 풀기 위해 sys.setrecursionlimit(10000)를 풀어줬음. 참고한 답에서는 필요하지 않았는데 반복문을 돌 때 나의 답은 set자료형을 사용하였기에 순서의 변화로 인한 것으로 판단"
   ]
  }
 ],
 "metadata": {
  "kernelspec": {
   "display_name": "Python 3",
   "language": "python",
   "name": "python3"
  },
  "language_info": {
   "name": "python",
   "version": "3.11.1 (main, Dec 23 2022, 09:28:24) [Clang 14.0.0 (clang-1400.0.29.202)]"
  },
  "orig_nbformat": 4,
  "vscode": {
   "interpreter": {
    "hash": "5c7b89af1651d0b8571dde13640ecdccf7d5a6204171d6ab33e7c296e100e08a"
   }
  }
 },
 "nbformat": 4,
 "nbformat_minor": 2
}
