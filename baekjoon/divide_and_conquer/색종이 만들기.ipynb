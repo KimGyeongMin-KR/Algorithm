{
 "cells": [
  {
   "cell_type": "markdown",
   "id": "fb62e43f",
   "metadata": {},
   "source": [
    "### 설계\n",
    "- 2차원 배열 리스트에 길이가 1이 아니면 4등분 후 확인 반복(재귀)\n",
    "- 1이라면 0과 1 판별 후 각 count +1\n",
    "\n",
    "### 피드백\n",
    "- 재귀를 맛나게 써보자"
   ]
  },
  {
   "cell_type": "code",
   "execution_count": null,
   "id": "8468e3b0",
   "metadata": {},
   "outputs": [],
   "source": [
    "N = int(input())\n",
    "li = [list(map(int, input().split())) for _ in range(N)]\n",
    "\n",
    "cnt0 = 0\n",
    "cnt1 = 0\n",
    "\n",
    "def dfs(pap):\n",
    "    global cnt0, cnt1\n",
    "    \n",
    "    checker = set(sum(pap, []))\n",
    "    \n",
    "    if len(checker) == 1:\n",
    "        if 1 in checker:\n",
    "            cnt1 += 1\n",
    "        else:\n",
    "            cnt0 += 1\n",
    "        return\n",
    "    \n",
    "    l = len(pap)\n",
    "    half = l//2\n",
    "    \n",
    "    q1 = [pap[i][:half] for i in range(half)]\n",
    "    q2 = [pap[i][half:] for i in range(half)]\n",
    "    q3 = [pap[-(i+1)][:half] for i in range(half)]\n",
    "    q4 = [pap[-(i+1)][half:] for i in range(half)]\n",
    "    \n",
    "    dfs(q1), dfs(q2), dfs(q3), dfs(q4)\n",
    "\n",
    "dfs(li)\n",
    "\n",
    "\n",
    "print(cnt0)\n",
    "print(cnt1)"
   ]
  },
  {
   "cell_type": "markdown",
   "id": "2c824783",
   "metadata": {},
   "source": [
    "- 다른 분 답"
   ]
  },
  {
   "cell_type": "code",
   "execution_count": null,
   "id": "5fe0b52c",
   "metadata": {},
   "outputs": [],
   "source": [
    "def count_paper(x, y, size):\n",
    "    global blue, white\n",
    "    color = paper[x][y]\n",
    "    for i in range(x, x + size):\n",
    "        for j in range(y, y + size):\n",
    "            if paper[i][j] != color:\n",
    "                count_paper(x, y, size // 2)\n",
    "                count_paper(x + size // 2, y, size // 2)\n",
    "                count_paper(x, y + size // 2, size // 2)\n",
    "                count_paper(x + size // 2, y + size // 2, size // 2)\n",
    "                return\n",
    "    if color == 0:\n",
    "        blue += 1\n",
    "    else:\n",
    "        white += 1\n",
    "\n",
    "n = int(input().strip())\n",
    "paper = [list(map(int, input().strip().split())) for _ in range(n)]\n",
    "blue, white = 0, 0\n",
    "count_paper(0, 0, n)\n",
    "print(blue)\n",
    "print(white)"
   ]
  }
 ],
 "metadata": {
  "kernelspec": {
   "display_name": "Python 3 (ipykernel)",
   "language": "python",
   "name": "python3"
  },
  "language_info": {
   "codemirror_mode": {
    "name": "ipython",
    "version": 3
   },
   "file_extension": ".py",
   "mimetype": "text/x-python",
   "name": "python",
   "nbconvert_exporter": "python",
   "pygments_lexer": "ipython3",
   "version": "3.9.13"
  }
 },
 "nbformat": 4,
 "nbformat_minor": 5
}
