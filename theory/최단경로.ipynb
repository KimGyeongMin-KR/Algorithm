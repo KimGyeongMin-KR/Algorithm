{
 "cells": [
  {
   "cell_type": "markdown",
   "id": "335d533d",
   "metadata": {},
   "source": [
    "### 다익스트라 알고리즘\n",
    "\n",
    "- 방문한 노드와 각 노드까지의 거리를 추적합니다\n",
    "- 그래프와 우선순위 큐를 활용하였음"
   ]
  },
  {
   "cell_type": "code",
   "execution_count": null,
   "id": "9e90facf",
   "metadata": {},
   "outputs": [],
   "source": [
    "from collections import defaultdict\n",
    "from heapq import heappop, heappush\n",
    "\n",
    "def dijkstra(graph, start, end):\n",
    "    distances = defaultdict(lambda: float('inf'))\n",
    "    distances[start] = 0\n",
    "    heap = [(0, start)]\n",
    "    while heap:\n",
    "        distance, current = heappop(heap)\n",
    "        if current == end:\n",
    "            return distance\n",
    "        for neighbor, cost in graph[current].items():\n",
    "            new_distance = distance + cost\n",
    "            if new_distance < distances[neighbour]:\n",
    "                distances[neighbour] = new_distance\n",
    "                heappush(heap, (new_distance, neighbour))\n",
    "    return float('inf')\n",
    "\n",
    "graph = {\n",
    "    'A': {'B': 1, 'C': 4},\n",
    "    'B': {'A': 1, 'C': 2, 'D': 5},\n",
    "    'C': {'A': 4, 'B': 2, 'D': 1},\n",
    "    'D': {'B': 5, 'C': 1}\n",
    "}\n",
    "\n",
    "print(dijkstra(graph, 'A', 'D'))\n",
    "# Output: 3"
   ]
  },
  {
   "cell_type": "code",
   "execution_count": 1,
   "id": "65ad6329",
   "metadata": {},
   "outputs": [],
   "source": [
    "graph = {\n",
    "    'A' : {'B':8,'C':1,'D':5},\n",
    "    'B' : {},\n",
    "    'C' : {'B': 5,'D':2},\n",
    "    'D' : {'E':3,'F':5},\n",
    "    'E' : {'F':1},\n",
    "    'F' : {'A':5}\n",
    "}"
   ]
  },
  {
   "cell_type": "code",
   "execution_count": 6,
   "id": "bb536726",
   "metadata": {},
   "outputs": [
    {
     "name": "stdout",
     "output_type": "stream",
     "text": [
      "{'A': 0, 'B': 6, 'C': 1, 'D': 3, 'E': 6, 'F': 7}\n"
     ]
    },
    {
     "data": {
      "text/plain": [
       "inf"
      ]
     },
     "execution_count": 6,
     "metadata": {},
     "output_type": "execute_result"
    }
   ],
   "source": [
    "import heapq as hq\n",
    "\n",
    "def dijkstra(graph, start):\n",
    "    distances = {node: float(\"inf\") for node in graph}\n",
    "    distances[start] = 0\n",
    "    queue = [(0, start)]\n",
    "    \n",
    "    while queue:\n",
    "        distance, current = hq.heappop(queue)\n",
    "        \n",
    "        for neighbor, cost in graph[current].items():\n",
    "            new_distance = distance + cost\n",
    "            \n",
    "            if new_distance < distances[neighbor]:\n",
    "                distances[neighbor] = new_distance\n",
    "                hq.heappush(queue, (new_distance, neighbor))\n",
    "    print(distances)\n",
    "    return float(\"inf\")\n",
    "\n",
    "dijkstra(graph, 'A')"
   ]
  },
  {
   "cell_type": "code",
   "execution_count": null,
   "id": "e371a1b8",
   "metadata": {},
   "outputs": [],
   "source": []
  }
 ],
 "metadata": {
  "kernelspec": {
   "display_name": "Python 3 (ipykernel)",
   "language": "python",
   "name": "python3"
  },
  "language_info": {
   "codemirror_mode": {
    "name": "ipython",
    "version": 3
   },
   "file_extension": ".py",
   "mimetype": "text/x-python",
   "name": "python",
   "nbconvert_exporter": "python",
   "pygments_lexer": "ipython3",
   "version": "3.9.13"
  }
 },
 "nbformat": 4,
 "nbformat_minor": 5
}
